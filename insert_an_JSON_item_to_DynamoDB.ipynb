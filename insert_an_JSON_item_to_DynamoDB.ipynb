{
 "cells": [
  {
   "cell_type": "code",
   "execution_count": null,
   "id": "73821277-4d24-40f4-abb8-ec902f8447d2",
   "metadata": {},
   "outputs": [],
   "source": [
    "# testing: insert 01 item to DynamoDB, using Python\n",
    "# tuong duong voi SQL: insert into actor([id], [name], [birthname], [birthdate], [birthplace]) values('1000', 'ABC', 'ABC DEF', '1980-01-01', 'Vietnam');\n",
    "# note: co the thu running bang Visual studio / Jupyter lab nhe!"
   ]
  },
  {
   "cell_type": "code",
   "execution_count": null,
   "id": "66159ea9-41c3-45f1-85e1-33e9756daa51",
   "metadata": {},
   "outputs": [],
   "source": [
    "mport boto3\n",
    "\n",
    "# Specify AWS credentials and region\n",
    "aws_access_key_id = 'your-access-key-id' #nhap access-key-id\n",
    "aws_secret_access_key = 'your-secret-access-key'   #nhap secret-access-key\n",
    "aws_region = 'ap-southeast-1'  #nhap region\n",
    "table_name = 'actor'    #nhap ten bang\n",
    "#==============================================\n",
    "\n",
    "# Initialize the DynamoDB resource with the specified credentials and region\n",
    "dynamodb = boto3.resource('dynamodb', region_name=aws_region, aws_access_key_id=aws_access_key_id, aws_secret_access_key=aws_secret_access_key)\n",
    "\n",
    "# Get a reference to the DynamoDB table\n",
    "table = dynamodb.Table(table_name)\n",
    "\n",
    "# Define the item (data) you want to insert\n",
    "item = {\n",
    "    'id': 1000,\n",
    "    'name': 'ABC',\n",
    "    'birthname': 'ABC DEF',\n",
    "    'birthdate': '1980-01-01',\n",
    "    'birthplace': 'Vietnam',\n",
    "}\n",
    "# Insert the item into the DynamoDB table\n",
    "try:\n",
    "    response = table.put_item(Item=item)\n",
    "    print(\"Item inserted successfully.\")\n",
    "except Exception as e:\n",
    "    print(f\"Error inserting item: {str(e)}\")\n",
    "    "
   ]
  }
 ],
 "metadata": {
  "kernelspec": {
   "display_name": "Python 3 (ipykernel)",
   "language": "python",
   "name": "python3"
  },
  "language_info": {
   "codemirror_mode": {
    "name": "ipython",
    "version": 3
   },
   "file_extension": ".py",
   "mimetype": "text/x-python",
   "name": "python",
   "nbconvert_exporter": "python",
   "pygments_lexer": "ipython3",
   "version": "3.11.3"
  }
 },
 "nbformat": 4,
 "nbformat_minor": 5
}
